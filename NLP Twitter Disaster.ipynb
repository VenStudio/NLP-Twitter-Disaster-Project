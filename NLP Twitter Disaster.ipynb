{
 "cells": [
  {
   "cell_type": "markdown",
   "metadata": {},
   "source": [
    "# **NLP Twitter Disaster Classifier Project**\n",
    "This project aims to classify tweets based on their content on whether they are commenting on real disasters or not."
   ]
  },
  {
   "cell_type": "markdown",
   "metadata": {},
   "source": [
    "---\n",
    "## **1. Importing data**\n",
    "Data set from [Keggle](https://www.kaggle.com/competitions/nlp-getting-started)"
   ]
  },
  {
   "cell_type": "code",
   "execution_count": 1,
   "metadata": {},
   "outputs": [
    {
     "name": "stdout",
     "output_type": "stream",
     "text": [
      "   id keyword location                                               text  \\\n",
      "0   1     NaN      NaN  Our Deeds are the Reason of this #earthquake M...   \n",
      "1   4     NaN      NaN             Forest fire near La Ronge Sask. Canada   \n",
      "2   5     NaN      NaN  All residents asked to 'shelter in place' are ...   \n",
      "3   6     NaN      NaN  13,000 people receive #wildfires evacuation or...   \n",
      "4   7     NaN      NaN  Just got sent this photo from Ruby #Alaska as ...   \n",
      "\n",
      "   target  \n",
      "0       1  \n",
      "1       1  \n",
      "2       1  \n",
      "3       1  \n",
      "4       1  \n"
     ]
    }
   ],
   "source": [
    "import pandas as pd\n",
    "\n",
    "df = pd.read_csv('..\\\\Datasets\\\\Twitter Disaster\\\\train.csv')\n",
    "\n",
    "print(df.head())"
   ]
  },
  {
   "cell_type": "markdown",
   "metadata": {},
   "source": [
    "---\n",
    "## **2. Preprocessing data**\n",
    "**This includes:**\n",
    "- Removing unnecessary text.\n",
    "- Converting the text to lowercase.\n",
    "- Tokenizing the text.\n",
    "- Removing stopwords.\n",
    "- Applying Lemmatization.\n",
    "- Extracting important info (such as hashtags)"
   ]
  },
  {
   "cell_type": "code",
   "execution_count": 2,
   "metadata": {},
   "outputs": [
    {
     "name": "stdout",
     "output_type": "stream",
     "text": [
      "showing info https://raw.githubusercontent.com/nltk/nltk_data/gh-pages/index.xml\n",
      "   id keyword location                                               text  \\\n",
      "0   1     NaN      NaN  Our Deeds are the Reason of this #earthquake M...   \n",
      "1   4     NaN      NaN             Forest fire near La Ronge Sask. Canada   \n",
      "2   5     NaN      NaN  All residents asked to 'shelter in place' are ...   \n",
      "3   6     NaN      NaN  13,000 people receive #wildfires evacuation or...   \n",
      "4   7     NaN      NaN  Just got sent this photo from Ruby #Alaska as ...   \n",
      "\n",
      "   target                                       cleaned_text  \\\n",
      "0       1         deed reason earthquake may allah forgive u   \n",
      "1       1              forest fire near la ronge sask canada   \n",
      "2       1  resident asked shelter place notified officer ...   \n",
      "3       1  people receive wildfire evacuation order calif...   \n",
      "4       1  got sent photo ruby alaska smoke wildfire pour...   \n",
      "\n",
      "             hashtags  \n",
      "0         #earthquake  \n",
      "1                      \n",
      "2                      \n",
      "3          #wildfires  \n",
      "4  #alaska #wildfires  \n"
     ]
    }
   ],
   "source": [
    "import re\n",
    "import nltk\n",
    "from nltk.corpus import stopwords\n",
    "from nltk.stem import WordNetLemmatizer\n",
    "\n",
    "nltk.download()\n",
    "\n",
    "lemmatizer = WordNetLemmatizer()\n",
    "stop_words = stopwords.words('english')\n",
    "\n",
    "# Removes URLs, HTML tags, Hashtags, then converts text to lowercase, and tokenizes and lemmatizes it.\n",
    "def preprocess_text(text):\n",
    "    text = re.sub(r'http\\S+', ' ', text)\n",
    "    text = re.sub(r'<.*?>', ' ', text)\n",
    "    text = re.sub(r'[^a-zA-Z]', ' ', text)\n",
    "    text = text.lower()\n",
    "    words = nltk.word_tokenize(text)\n",
    "    words = [lemmatizer.lemmatize(word) for word in words if word not in stop_words]\n",
    "    return ' '.join(words)\n",
    "\n",
    "# Processing Hashtags specifically\n",
    "def preprocess_hashtags(text):\n",
    "    text = text.lower()\n",
    "    text = re.findall(r'#\\w[\\w_]*', text)\n",
    "    return ' '.join(text)\n",
    "\n",
    "# Apply preprocessing to the tweet text\n",
    "df['cleaned_text'] = df['text'].apply(preprocess_text)\n",
    "# Extract hashtags to a seperate column\n",
    "df['hashtags'] = df['text'].apply(preprocess_hashtags)\n",
    "\n",
    "print(df.head())"
   ]
  },
  {
   "cell_type": "markdown",
   "metadata": {},
   "source": [
    "---\n",
    "# **3. Feature Extraction**\n",
    "using TF-IDF, vectorize the text."
   ]
  },
  {
   "cell_type": "code",
   "execution_count": 3,
   "metadata": {},
   "outputs": [
    {
     "name": "stdout",
     "output_type": "stream",
     "text": [
      "  (0, 3267)\t0.4917752267617825\n",
      "  (0, 10595)\t0.3600775896596117\n",
      "  (0, 3958)\t0.33751907334621206\n",
      "  (0, 8093)\t0.3037960127435994\n",
      "  (0, 355)\t0.4247908189689651\n",
      "  (0, 4931)\t0.4917752267617825\n",
      "  (0, 15326)\t1.0\n",
      "  (1, 4923)\t0.306581494866499\n",
      "  (1, 4756)\t0.22047874066399495\n",
      "  (1, 8831)\t0.3154679292758814\n",
      "  (1, 7285)\t0.35138136833297784\n",
      "  (1, 11094)\t0.4917659025364492\n",
      "  (1, 11339)\t0.4917659025364492\n",
      "  (1, 1936)\t0.3882533009679326\n",
      "  (2, 10838)\t0.2760497419903291\n",
      "  (2, 745)\t0.27191221012041994\n",
      "  (2, 11689)\t0.5723111169469418\n",
      "  (2, 9894)\t0.45693338781287907\n",
      "  (2, 9073)\t0.32474807166271447\n",
      "  (2, 9216)\t0.22846669390643953\n",
      "  (2, 4358)\t0.2096271571821481\n",
      "  (2, 9386)\t0.2204021066462517\n",
      "  (2, 4448)\t0.2517005771541364\n",
      "  (3, 4358)\t0.39180400373235424\n",
      "  (3, 9386)\t0.4119429418203297\n",
      "  :\t:\n",
      "  (7610, 7192)\t0.4783083287340091\n",
      "  (7610, 13882)\t0.49463673979851114\n",
      "  (7610, 5778)\t0.5517244286343893\n",
      "  (7611, 1990)\t0.17545585317139523\n",
      "  (7611, 9986)\t0.16956362461618765\n",
      "  (7611, 7540)\t0.1700821329880351\n",
      "  (7611, 10957)\t0.2628061505194476\n",
      "  (7611, 6480)\t0.18456934666909242\n",
      "  (7611, 7626)\t0.20151890859664634\n",
      "  (7611, 11577)\t0.24409085253271226\n",
      "  (7611, 6593)\t0.2396251461365945\n",
      "  (7611, 13157)\t0.2628061505194476\n",
      "  (7611, 9019)\t0.24409085253271226\n",
      "  (7611, 1313)\t0.5570490766475066\n",
      "  (7611, 2548)\t0.2065628966067362\n",
      "  (7611, 10033)\t0.295608140992132\n",
      "  (7611, 12589)\t0.28598715490230076\n",
      "  (7612, 14389)\t0.3471458928649788\n",
      "  (7612, 1898)\t0.3237725377120689\n",
      "  (7612, 8899)\t0.2896363748123907\n",
      "  (7612, 6016)\t0.3135722977830643\n",
      "  (7612, 7369)\t0.3667515889215776\n",
      "  (7612, 9047)\t0.36172783676322723\n",
      "  (7612, 24)\t0.40819785926445895\n",
      "  (7612, 10546)\t0.40058083973781916\n"
     ]
    }
   ],
   "source": [
    "from sklearn.feature_extraction.text import TfidfVectorizer\n",
    "from scipy.sparse import hstack\n",
    "\n",
    "\n",
    "tfidf_vectorizer = TfidfVectorizer()\n",
    "X = tfidf_vectorizer.fit_transform(df['cleaned_text'])\n",
    "y = df['target']\n",
    "\n",
    "# Vectorize and process hashtags\n",
    "X_hashtags = tfidf_vectorizer.fit_transform(df['hashtags'])\n",
    "hashtag_set = ['#disaster', '#earthquake', '#flood', '#fire'] \n",
    "# Add binary features for each hashtag in the hashtag_set\n",
    "for hashtag in hashtag_set:\n",
    "    df[hashtag] = df['hashtags'].apply(lambda x: int(hashtag in x))\n",
    "\n",
    "\n",
    "# Merge cleaned_text and hashtags into a single column\n",
    "X = hstack([X, X_hashtags])\n",
    "\n",
    "print(X)"
   ]
  },
  {
   "cell_type": "markdown",
   "metadata": {},
   "source": [
    "---\n",
    "# **4-5.Model Training and Evaluation**\n",
    "train multiple models and select the best model."
   ]
  },
  {
   "cell_type": "code",
   "execution_count": 4,
   "metadata": {},
   "outputs": [
    {
     "name": "stdout",
     "output_type": "stream",
     "text": [
      "Training data shape: (6090, 16724)\n",
      "Test data shape: (1523, 16724)\n"
     ]
    }
   ],
   "source": [
    "from sklearn.model_selection import train_test_split\n",
    "\n",
    "X_train, X_test, y_train, y_test = train_test_split(X, y, test_size=0.2, random_state=26)\n",
    "\n",
    "print(f'Training data shape: {X_train.shape}')\n",
    "print(f'Test data shape: {X_test.shape}')"
   ]
  },
  {
   "cell_type": "code",
   "execution_count": 5,
   "metadata": {},
   "outputs": [
    {
     "name": "stdout",
     "output_type": "stream",
     "text": [
      "Evaluating Logistic Regression...\n",
      "Logistic Regression Performance:\n",
      "Classification Report:\n",
      "               precision    recall  f1-score   support\n",
      "\n",
      "           0       0.81      0.88      0.84       893\n",
      "           1       0.80      0.70      0.75       630\n",
      "\n",
      "    accuracy                           0.81      1523\n",
      "   macro avg       0.80      0.79      0.80      1523\n",
      "weighted avg       0.81      0.81      0.80      1523\n",
      "\n",
      "Mean Cross-Validation F1 Score: 0.8111678611122946\n",
      "Confusion Matrix:\n",
      " [[784 109]\n",
      " [187 443]]\n",
      "\n",
      "\n",
      "Evaluating SVM...\n",
      "SVM Performance:\n",
      "Classification Report:\n",
      "               precision    recall  f1-score   support\n",
      "\n",
      "           0       0.78      0.92      0.85       893\n",
      "           1       0.85      0.64      0.73       630\n",
      "\n",
      "    accuracy                           0.80      1523\n",
      "   macro avg       0.81      0.78      0.79      1523\n",
      "weighted avg       0.81      0.80      0.80      1523\n",
      "\n",
      "Mean Cross-Validation F1 Score: 0.8144967739572859\n",
      "Confusion Matrix:\n",
      " [[821  72]\n",
      " [229 401]]\n",
      "\n",
      "\n",
      "Evaluating XGBoost...\n",
      "XGBoost Performance:\n",
      "Classification Report:\n",
      "               precision    recall  f1-score   support\n",
      "\n",
      "           0       0.78      0.87      0.82       893\n",
      "           1       0.78      0.65      0.71       630\n",
      "\n",
      "    accuracy                           0.78      1523\n",
      "   macro avg       0.78      0.76      0.77      1523\n",
      "weighted avg       0.78      0.78      0.77      1523\n",
      "\n",
      "Mean Cross-Validation F1 Score: 0.7762273919708588\n",
      "Confusion Matrix:\n",
      " [[777 116]\n",
      " [221 409]]\n",
      "\n",
      "\n",
      "Evaluating Random Forest...\n",
      "Random Forest Performance:\n",
      "Classification Report:\n",
      "               precision    recall  f1-score   support\n",
      "\n",
      "           0       0.78      0.88      0.83       893\n",
      "           1       0.79      0.65      0.71       630\n",
      "\n",
      "    accuracy                           0.78      1523\n",
      "   macro avg       0.79      0.76      0.77      1523\n",
      "weighted avg       0.78      0.78      0.78      1523\n",
      "\n",
      "Mean Cross-Validation F1 Score: 0.8022423096561166\n",
      "Confusion Matrix:\n",
      " [[785 108]\n",
      " [222 408]]\n",
      "\n",
      "\n"
     ]
    }
   ],
   "source": [
    "from sklearn.metrics import classification_report, accuracy_score, confusion_matrix, precision_score, recall_score, f1_score\n",
    "from sklearn.model_selection import StratifiedKFold, cross_val_score\n",
    "from imblearn.over_sampling import SMOTE\n",
    "from sklearn.linear_model import LogisticRegression\n",
    "from sklearn.svm import SVC\n",
    "import xgboost as xgb\n",
    "from sklearn.ensemble import RandomForestClassifier\n",
    "import numpy as np\n",
    "\n",
    "# Resample data to handle imbalance\n",
    "smote = SMOTE(random_state=42)\n",
    "X_train, y_train = smote.fit_resample(X_train, y_train)\n",
    "\n",
    "# dictionary for all the models used\n",
    "models = {\n",
    "    'Logistic Regression': LogisticRegression(class_weight='balanced', max_iter=1000),\n",
    "    'SVM': SVC(class_weight='balanced', probability=True),\n",
    "    'XGBoost': xgb.XGBClassifier(scale_pos_weight=(np.sum(y_train == 0)/np.sum(y_train == 1)), eval_metric='mlogloss'),\n",
    "    'Random Forest': RandomForestClassifier(class_weight='balanced'),\n",
    "}\n",
    "\n",
    "evaluation_results = {}\n",
    "\n",
    "cv = StratifiedKFold(n_splits=5, shuffle=True, random_state=26)\n",
    "\n",
    "for model_name, model in models.items():\n",
    "    print(f\"Evaluating {model_name}...\")\n",
    "    \n",
    "    model.fit(X_train, y_train)\n",
    "    \n",
    "    y_pred = model.predict(X_test)\n",
    "    \n",
    "    accuracy = accuracy_score(y_test, y_pred)\n",
    "    precision = precision_score(y_test, y_pred, average='weighted')\n",
    "    recall = recall_score(y_test, y_pred, average='weighted')\n",
    "    f1 = f1_score(y_test, y_pred, average='weighted')\n",
    "    conf_matrix = confusion_matrix(y_test, y_pred)\n",
    "    classification_rep = classification_report(y_test, y_pred)\n",
    "\n",
    "    cv_scores = cross_val_score(model, X_train, y_train, cv=cv, scoring='f1')\n",
    "    mean_cv_score = np.mean(cv_scores)\n",
    "\n",
    "    evaluation_results[model_name] = {\n",
    "        'Classification Report': classification_rep,\n",
    "        'Confusion Matrix': conf_matrix,\n",
    "        'Mean Cross-Validation F1 Score': mean_cv_score,\n",
    "    }\n",
    "    \n",
    "    print(f'{model_name} Performance:')\n",
    "    print('Classification Report:\\n', classification_rep)\n",
    "    print('Mean Cross-Validation F1 Score:', mean_cv_score)\n",
    "    print('Confusion Matrix:\\n', conf_matrix)\n",
    "    print('\\n')\n"
   ]
  },
  {
   "cell_type": "markdown",
   "metadata": {},
   "source": [
    "---\n",
    "# **6.  Interpretation and Application**\n",
    "using metrics, find the best possible model to be used on the data."
   ]
  },
  {
   "cell_type": "code",
   "execution_count": 6,
   "metadata": {},
   "outputs": [
    {
     "name": "stdout",
     "output_type": "stream",
     "text": [
      "======================================\n",
      "The best model is: SVM\n",
      "======================================\n",
      "Metrics:\n",
      "---------------------\n",
      "Classification Report:               precision    recall  f1-score   support\n",
      "\n",
      "           0       0.78      0.92      0.85       893\n",
      "           1       0.85      0.64      0.73       630\n",
      "\n",
      "    accuracy                           0.80      1523\n",
      "   macro avg       0.81      0.78      0.79      1523\n",
      "weighted avg       0.81      0.80      0.80      1523\n",
      "\n",
      "Confusion Matrix:\n",
      " [[821  72]\n",
      " [229 401]]\n",
      "Mean Cross-Validation F1 Score: 0.8144967739572859\n"
     ]
    }
   ],
   "source": [
    "# Determine the best model based on Mean Cross-Validation F1 Score\n",
    "best_model_name = max(evaluation_results, key=lambda k: evaluation_results[k]['Mean Cross-Validation F1 Score'])\n",
    "best_model_metrics = evaluation_results[best_model_name]\n",
    "\n",
    "# Print the model's info\n",
    "print(f'======================================')\n",
    "print(f\"The best model is: {best_model_name}\")\n",
    "print(f'======================================')\n",
    "print(f'Metrics:\\n---------------------')\n",
    "print('Classification Report:', best_model_metrics['Classification Report'])\n",
    "print('Confusion Matrix:\\n', best_model_metrics['Confusion Matrix'])\n",
    "print('Mean Cross-Validation F1 Score:', best_model_metrics['Mean Cross-Validation F1 Score'])"
   ]
  },
  {
   "cell_type": "markdown",
   "metadata": {},
   "source": [
    "### **How Can We Use This Model Efficiently?**\n",
    "\n",
    "#### **Real-Time Monitoring**\n",
    "\n",
    "We can **connect** the model to social media to keep an eye on **disaster-related tweets**. This way, it can automatically **alert authorities** about new situations, helping them respond quickly and coordinate efforts.\n",
    "\n",
    "#### **Spotting Key Information**\n",
    "\n",
    "The model helps **pick out** and **highlight** crucial info from social media, making sure that **important updates** get to the right people in time. This helps affected communities stay informed.\n",
    "\n",
    "#### **Guiding Resource Use**\n",
    "\n",
    "It also looks at **tweet trends** to help decide where **resources** should go. By showing how **serious** and **widespread** a disaster is, the model supports **smarter planning** and quicker responses."
   ]
  },
  {
   "cell_type": "code",
   "execution_count": null,
   "metadata": {},
   "outputs": [],
   "source": []
  }
 ],
 "metadata": {
  "kernelspec": {
   "display_name": "venv",
   "language": "python",
   "name": "python3"
  },
  "language_info": {
   "codemirror_mode": {
    "name": "ipython",
    "version": 3
   },
   "file_extension": ".py",
   "mimetype": "text/x-python",
   "name": "python",
   "nbconvert_exporter": "python",
   "pygments_lexer": "ipython3",
   "version": "3.12.4"
  }
 },
 "nbformat": 4,
 "nbformat_minor": 2
}
